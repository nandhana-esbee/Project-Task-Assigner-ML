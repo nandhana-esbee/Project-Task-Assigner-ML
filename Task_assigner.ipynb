{
 "cells": [
  {
   "cell_type": "markdown",
   "id": "556ee8a5-e16e-4c58-8dc9-6d1610d5180b",
   "metadata": {},
   "source": [
    "# Project Task Assigner"
   ]
  },
  {
   "cell_type": "markdown",
   "id": "736ae11f-9141-4721-8ef1-edd9cab63127",
   "metadata": {},
   "source": [
    "#### Importing required libraries"
   ]
  },
  {
   "cell_type": "code",
   "execution_count": 140,
   "id": "b313c7b8-b70d-468d-ae03-c435f2149670",
   "metadata": {},
   "outputs": [],
   "source": [
    "import pandas as pd"
   ]
  },
  {
   "cell_type": "markdown",
   "id": "4ae90e40-8793-4bff-9e9d-cd3391947781",
   "metadata": {},
   "source": [
    "#### Reading task dataset which consists of 200 data with 10 sort of tasks"
   ]
  },
  {
   "cell_type": "code",
   "execution_count": 141,
   "id": "1b6b2a34-31a7-4ee4-b6b8-a72c6813e095",
   "metadata": {},
   "outputs": [
    {
     "data": {
      "text/plain": [
       "(200, 7)"
      ]
     },
     "execution_count": 141,
     "metadata": {},
     "output_type": "execute_result"
    }
   ],
   "source": [
    "taskData = pd.read_csv(\"Dataset/tasks.csv\")\n",
    "taskData.shape"
   ]
  },
  {
   "cell_type": "code",
   "execution_count": 142,
   "id": "6daa9f35-3bc2-4db6-8086-de115fe51a2b",
   "metadata": {},
   "outputs": [
    {
     "data": {
      "text/html": [
       "<div>\n",
       "<style scoped>\n",
       "    .dataframe tbody tr th:only-of-type {\n",
       "        vertical-align: middle;\n",
       "    }\n",
       "\n",
       "    .dataframe tbody tr th {\n",
       "        vertical-align: top;\n",
       "    }\n",
       "\n",
       "    .dataframe thead th {\n",
       "        text-align: right;\n",
       "    }\n",
       "</style>\n",
       "<table border=\"1\" class=\"dataframe\">\n",
       "  <thead>\n",
       "    <tr style=\"text-align: right;\">\n",
       "      <th></th>\n",
       "      <th>TaskID</th>\n",
       "      <th>TaskName</th>\n",
       "      <th>Python</th>\n",
       "      <th>DataAnalysis</th>\n",
       "      <th>ML</th>\n",
       "      <th>Communication</th>\n",
       "      <th>ProjectManagement</th>\n",
       "    </tr>\n",
       "  </thead>\n",
       "  <tbody>\n",
       "    <tr>\n",
       "      <th>0</th>\n",
       "      <td>1</td>\n",
       "      <td>Data Cleaning &amp; Preparation</td>\n",
       "      <td>7</td>\n",
       "      <td>10</td>\n",
       "      <td>2</td>\n",
       "      <td>2</td>\n",
       "      <td>4</td>\n",
       "    </tr>\n",
       "    <tr>\n",
       "      <th>1</th>\n",
       "      <td>1</td>\n",
       "      <td>Data Cleaning &amp; Preparation</td>\n",
       "      <td>7</td>\n",
       "      <td>8</td>\n",
       "      <td>1</td>\n",
       "      <td>3</td>\n",
       "      <td>1</td>\n",
       "    </tr>\n",
       "    <tr>\n",
       "      <th>2</th>\n",
       "      <td>1</td>\n",
       "      <td>Data Cleaning &amp; Preparation</td>\n",
       "      <td>5</td>\n",
       "      <td>9</td>\n",
       "      <td>2</td>\n",
       "      <td>1</td>\n",
       "      <td>3</td>\n",
       "    </tr>\n",
       "    <tr>\n",
       "      <th>3</th>\n",
       "      <td>1</td>\n",
       "      <td>Data Cleaning &amp; Preparation</td>\n",
       "      <td>7</td>\n",
       "      <td>8</td>\n",
       "      <td>2</td>\n",
       "      <td>1</td>\n",
       "      <td>1</td>\n",
       "    </tr>\n",
       "    <tr>\n",
       "      <th>4</th>\n",
       "      <td>1</td>\n",
       "      <td>Data Cleaning &amp; Preparation</td>\n",
       "      <td>4</td>\n",
       "      <td>10</td>\n",
       "      <td>1</td>\n",
       "      <td>2</td>\n",
       "      <td>4</td>\n",
       "    </tr>\n",
       "  </tbody>\n",
       "</table>\n",
       "</div>"
      ],
      "text/plain": [
       "   TaskID                     TaskName  Python  DataAnalysis  ML  \\\n",
       "0       1  Data Cleaning & Preparation       7            10   2   \n",
       "1       1  Data Cleaning & Preparation       7             8   1   \n",
       "2       1  Data Cleaning & Preparation       5             9   2   \n",
       "3       1  Data Cleaning & Preparation       7             8   2   \n",
       "4       1  Data Cleaning & Preparation       4            10   1   \n",
       "\n",
       "   Communication  ProjectManagement  \n",
       "0              2                  4  \n",
       "1              3                  1  \n",
       "2              1                  3  \n",
       "3              1                  1  \n",
       "4              2                  4  "
      ]
     },
     "execution_count": 142,
     "metadata": {},
     "output_type": "execute_result"
    }
   ],
   "source": [
    "taskData.head()"
   ]
  },
  {
   "cell_type": "code",
   "execution_count": 143,
   "id": "3af77d76-64e8-48cb-94b7-645b7377fdf9",
   "metadata": {},
   "outputs": [
    {
     "data": {
      "text/html": [
       "<div>\n",
       "<style scoped>\n",
       "    .dataframe tbody tr th:only-of-type {\n",
       "        vertical-align: middle;\n",
       "    }\n",
       "\n",
       "    .dataframe tbody tr th {\n",
       "        vertical-align: top;\n",
       "    }\n",
       "\n",
       "    .dataframe thead th {\n",
       "        text-align: right;\n",
       "    }\n",
       "</style>\n",
       "<table border=\"1\" class=\"dataframe\">\n",
       "  <thead>\n",
       "    <tr style=\"text-align: right;\">\n",
       "      <th></th>\n",
       "      <th>TaskID</th>\n",
       "      <th>TaskName</th>\n",
       "      <th>Python</th>\n",
       "      <th>DataAnalysis</th>\n",
       "      <th>ML</th>\n",
       "      <th>Communication</th>\n",
       "      <th>ProjectManagement</th>\n",
       "    </tr>\n",
       "  </thead>\n",
       "  <tbody>\n",
       "    <tr>\n",
       "      <th>195</th>\n",
       "      <td>10</td>\n",
       "      <td>Documentation Writing</td>\n",
       "      <td>2</td>\n",
       "      <td>2</td>\n",
       "      <td>1</td>\n",
       "      <td>9</td>\n",
       "      <td>3</td>\n",
       "    </tr>\n",
       "    <tr>\n",
       "      <th>196</th>\n",
       "      <td>10</td>\n",
       "      <td>Documentation Writing</td>\n",
       "      <td>4</td>\n",
       "      <td>3</td>\n",
       "      <td>4</td>\n",
       "      <td>10</td>\n",
       "      <td>3</td>\n",
       "    </tr>\n",
       "    <tr>\n",
       "      <th>197</th>\n",
       "      <td>10</td>\n",
       "      <td>Documentation Writing</td>\n",
       "      <td>4</td>\n",
       "      <td>1</td>\n",
       "      <td>2</td>\n",
       "      <td>7</td>\n",
       "      <td>4</td>\n",
       "    </tr>\n",
       "    <tr>\n",
       "      <th>198</th>\n",
       "      <td>10</td>\n",
       "      <td>Documentation Writing</td>\n",
       "      <td>1</td>\n",
       "      <td>3</td>\n",
       "      <td>4</td>\n",
       "      <td>7</td>\n",
       "      <td>1</td>\n",
       "    </tr>\n",
       "    <tr>\n",
       "      <th>199</th>\n",
       "      <td>10</td>\n",
       "      <td>Documentation Writing</td>\n",
       "      <td>3</td>\n",
       "      <td>3</td>\n",
       "      <td>2</td>\n",
       "      <td>7</td>\n",
       "      <td>4</td>\n",
       "    </tr>\n",
       "  </tbody>\n",
       "</table>\n",
       "</div>"
      ],
      "text/plain": [
       "     TaskID               TaskName  Python  DataAnalysis  ML  Communication  \\\n",
       "195      10  Documentation Writing       2             2   1              9   \n",
       "196      10  Documentation Writing       4             3   4             10   \n",
       "197      10  Documentation Writing       4             1   2              7   \n",
       "198      10  Documentation Writing       1             3   4              7   \n",
       "199      10  Documentation Writing       3             3   2              7   \n",
       "\n",
       "     ProjectManagement  \n",
       "195                  3  \n",
       "196                  3  \n",
       "197                  4  \n",
       "198                  1  \n",
       "199                  4  "
      ]
     },
     "execution_count": 143,
     "metadata": {},
     "output_type": "execute_result"
    }
   ],
   "source": [
    "taskData.tail()"
   ]
  },
  {
   "cell_type": "code",
   "execution_count": 144,
   "id": "13cd66d0-2de1-48dd-8bc1-3d222816a8e6",
   "metadata": {},
   "outputs": [
    {
     "data": {
      "text/html": [
       "<div>\n",
       "<style scoped>\n",
       "    .dataframe tbody tr th:only-of-type {\n",
       "        vertical-align: middle;\n",
       "    }\n",
       "\n",
       "    .dataframe tbody tr th {\n",
       "        vertical-align: top;\n",
       "    }\n",
       "\n",
       "    .dataframe thead th {\n",
       "        text-align: right;\n",
       "    }\n",
       "</style>\n",
       "<table border=\"1\" class=\"dataframe\">\n",
       "  <thead>\n",
       "    <tr style=\"text-align: right;\">\n",
       "      <th></th>\n",
       "      <th>count</th>\n",
       "      <th>mean</th>\n",
       "      <th>std</th>\n",
       "      <th>min</th>\n",
       "      <th>25%</th>\n",
       "      <th>50%</th>\n",
       "      <th>75%</th>\n",
       "      <th>max</th>\n",
       "    </tr>\n",
       "  </thead>\n",
       "  <tbody>\n",
       "    <tr>\n",
       "      <th>TaskID</th>\n",
       "      <td>200.0</td>\n",
       "      <td>5.500</td>\n",
       "      <td>2.879489</td>\n",
       "      <td>1.0</td>\n",
       "      <td>3.0</td>\n",
       "      <td>5.5</td>\n",
       "      <td>8.00</td>\n",
       "      <td>10.0</td>\n",
       "    </tr>\n",
       "    <tr>\n",
       "      <th>Python</th>\n",
       "      <td>200.0</td>\n",
       "      <td>4.535</td>\n",
       "      <td>2.779822</td>\n",
       "      <td>1.0</td>\n",
       "      <td>2.0</td>\n",
       "      <td>4.0</td>\n",
       "      <td>7.00</td>\n",
       "      <td>10.0</td>\n",
       "    </tr>\n",
       "    <tr>\n",
       "      <th>DataAnalysis</th>\n",
       "      <td>200.0</td>\n",
       "      <td>4.320</td>\n",
       "      <td>2.565249</td>\n",
       "      <td>1.0</td>\n",
       "      <td>2.0</td>\n",
       "      <td>4.0</td>\n",
       "      <td>6.25</td>\n",
       "      <td>10.0</td>\n",
       "    </tr>\n",
       "    <tr>\n",
       "      <th>ML</th>\n",
       "      <td>200.0</td>\n",
       "      <td>3.660</td>\n",
       "      <td>2.641836</td>\n",
       "      <td>1.0</td>\n",
       "      <td>2.0</td>\n",
       "      <td>3.0</td>\n",
       "      <td>4.00</td>\n",
       "      <td>10.0</td>\n",
       "    </tr>\n",
       "    <tr>\n",
       "      <th>Communication</th>\n",
       "      <td>200.0</td>\n",
       "      <td>4.130</td>\n",
       "      <td>2.540743</td>\n",
       "      <td>1.0</td>\n",
       "      <td>2.0</td>\n",
       "      <td>3.5</td>\n",
       "      <td>6.00</td>\n",
       "      <td>10.0</td>\n",
       "    </tr>\n",
       "    <tr>\n",
       "      <th>ProjectManagement</th>\n",
       "      <td>200.0</td>\n",
       "      <td>4.060</td>\n",
       "      <td>2.646017</td>\n",
       "      <td>1.0</td>\n",
       "      <td>2.0</td>\n",
       "      <td>4.0</td>\n",
       "      <td>5.00</td>\n",
       "      <td>10.0</td>\n",
       "    </tr>\n",
       "  </tbody>\n",
       "</table>\n",
       "</div>"
      ],
      "text/plain": [
       "                   count   mean       std  min  25%  50%   75%   max\n",
       "TaskID             200.0  5.500  2.879489  1.0  3.0  5.5  8.00  10.0\n",
       "Python             200.0  4.535  2.779822  1.0  2.0  4.0  7.00  10.0\n",
       "DataAnalysis       200.0  4.320  2.565249  1.0  2.0  4.0  6.25  10.0\n",
       "ML                 200.0  3.660  2.641836  1.0  2.0  3.0  4.00  10.0\n",
       "Communication      200.0  4.130  2.540743  1.0  2.0  3.5  6.00  10.0\n",
       "ProjectManagement  200.0  4.060  2.646017  1.0  2.0  4.0  5.00  10.0"
      ]
     },
     "execution_count": 144,
     "metadata": {},
     "output_type": "execute_result"
    }
   ],
   "source": [
    "taskData.describe().T"
   ]
  },
  {
   "cell_type": "markdown",
   "id": "d340ee5f-d7c8-4180-8ba5-33e67378a14d",
   "metadata": {},
   "source": [
    "#### Here it is seen that the mean and std of the dataset is almost same. <br>So no need of standard scaler."
   ]
  },
  {
   "cell_type": "markdown",
   "id": "04977359-e421-4ac7-bb4c-3764227b9c03",
   "metadata": {},
   "source": [
    "#### TaskName is considered as y label and skillset list to x part"
   ]
  },
  {
   "cell_type": "code",
   "execution_count": 145,
   "id": "f2e5e44f-3e3c-40b6-8e3c-0830d62aaa8d",
   "metadata": {},
   "outputs": [
    {
     "data": {
      "text/plain": [
       "((200, 5), (200,))"
      ]
     },
     "execution_count": 145,
     "metadata": {},
     "output_type": "execute_result"
    }
   ],
   "source": [
    "x = taskData.iloc[:,2:].values\n",
    "y = taskData['TaskName']\n",
    "x.shape , y.shape"
   ]
  },
  {
   "cell_type": "markdown",
   "id": "516efd3c-651e-416d-8fdd-225268e0853e",
   "metadata": {},
   "source": [
    "#### Splitting to train test data with 30% of testing data"
   ]
  },
  {
   "cell_type": "code",
   "execution_count": 146,
   "id": "265f39a2-b28a-4806-bead-50c356deb021",
   "metadata": {},
   "outputs": [
    {
     "data": {
      "text/plain": [
       "((140, 5), (60, 5), (140,), (60,))"
      ]
     },
     "execution_count": 146,
     "metadata": {},
     "output_type": "execute_result"
    }
   ],
   "source": [
    "from sklearn.model_selection import train_test_split\n",
    "x_train,x_test,y_train,y_test=train_test_split(x,y,test_size=0.30,random_state=42)\n",
    "x_train.shape, x_test.shape ,y_train.shape, y_test.shape"
   ]
  },
  {
   "cell_type": "markdown",
   "id": "6afbb859-ec93-46de-b919-3d4214a30a46",
   "metadata": {},
   "source": [
    "#### Since no standard scaler is used naive bayes algorithm is ignored.<br>"
   ]
  },
  {
   "cell_type": "code",
   "execution_count": 147,
   "id": "103c0323-5e53-4527-a452-eae4b826218a",
   "metadata": {},
   "outputs": [
    {
     "data": {
      "text/plain": [
       "[KNeighborsClassifier(n_neighbors=3),\n",
       " SVC(),\n",
       " DecisionTreeClassifier(criterion='entropy'),\n",
       " RandomForestClassifier(criterion='entropy', n_estimators=5)]"
      ]
     },
     "execution_count": 147,
     "metadata": {},
     "output_type": "execute_result"
    }
   ],
   "source": [
    "from sklearn.neighbors import KNeighborsClassifier\n",
    "from sklearn.svm import SVC\n",
    "# from sklearn.naive_bayes import GaussianNB\n",
    "from sklearn.tree import DecisionTreeClassifier\n",
    "from sklearn.ensemble import RandomForestClassifier\n",
    "knn=KNeighborsClassifier(n_neighbors=3)\n",
    "# nb=GaussianNB()\n",
    "model=SVC()\n",
    "dec=DecisionTreeClassifier(criterion='entropy')\n",
    "ran=RandomForestClassifier(n_estimators=5,criterion='entropy')\n",
    "modeldata=[knn,model,dec,ran]\n",
    "modeldata"
   ]
  },
  {
   "cell_type": "code",
   "execution_count": 148,
   "id": "05353a3a-75a2-48d9-8cd8-b98c19c85447",
   "metadata": {},
   "outputs": [
    {
     "name": "stdout",
     "output_type": "stream",
     "text": [
      "KNeighborsClassifier(n_neighbors=3)\n",
      "Accuracy score is  0.9\n",
      "\n",
      "_________________________________________________________________________________________________\n",
      "SVC()\n",
      "Accuracy score is  0.8833333333333333\n",
      "\n",
      "_________________________________________________________________________________________________\n",
      "DecisionTreeClassifier(criterion='entropy')\n",
      "Accuracy score is  0.85\n",
      "\n",
      "_________________________________________________________________________________________________\n",
      "RandomForestClassifier(criterion='entropy', n_estimators=5)\n",
      "Accuracy score is  0.8666666666666667\n",
      "\n",
      "_________________________________________________________________________________________________\n"
     ]
    }
   ],
   "source": [
    "from sklearn.metrics import accuracy_score\n",
    "for i in modeldata:\n",
    "    i.fit(x_train,y_train)\n",
    "    y_pred=i.predict(x_test)\n",
    "    print(i)\n",
    "    print(\"Accuracy score is \",accuracy_score(y_test,y_pred))\n",
    "    print(\"\\n_________________________________________________________________________________________________\")"
   ]
  },
  {
   "cell_type": "markdown",
   "id": "e0d81587-24e3-4a69-9468-3e0f6e4ee29c",
   "metadata": {},
   "source": [
    "#### KNN gave almost 90% accuracy than SVC , Decision tree and Random Forest classifier.<br> So took KNN model to predict the task for employee."
   ]
  },
  {
   "cell_type": "markdown",
   "id": "a2984731-9b74-4245-badd-78e651177041",
   "metadata": {},
   "source": [
    "### Prediction"
   ]
  },
  {
   "cell_type": "code",
   "execution_count": 149,
   "id": "bfccac0e-c37d-4c02-b6bb-7ff8dd1244ab",
   "metadata": {},
   "outputs": [
    {
     "data": {
      "text/plain": [
       "(10, 7)"
      ]
     },
     "execution_count": 149,
     "metadata": {},
     "output_type": "execute_result"
    }
   ],
   "source": [
    "employee = pd.read_csv('Dataset/employees.csv')\n",
    "employee.shape"
   ]
  },
  {
   "cell_type": "code",
   "execution_count": 150,
   "id": "659da86b-e02d-40d9-9a85-4c45dd021f9c",
   "metadata": {},
   "outputs": [
    {
     "data": {
      "text/html": [
       "<div>\n",
       "<style scoped>\n",
       "    .dataframe tbody tr th:only-of-type {\n",
       "        vertical-align: middle;\n",
       "    }\n",
       "\n",
       "    .dataframe tbody tr th {\n",
       "        vertical-align: top;\n",
       "    }\n",
       "\n",
       "    .dataframe thead th {\n",
       "        text-align: right;\n",
       "    }\n",
       "</style>\n",
       "<table border=\"1\" class=\"dataframe\">\n",
       "  <thead>\n",
       "    <tr style=\"text-align: right;\">\n",
       "      <th></th>\n",
       "      <th>EmployeeID</th>\n",
       "      <th>Name</th>\n",
       "      <th>Python</th>\n",
       "      <th>DataAnalysis</th>\n",
       "      <th>ML</th>\n",
       "      <th>Communication</th>\n",
       "      <th>ProjectManagement</th>\n",
       "    </tr>\n",
       "  </thead>\n",
       "  <tbody>\n",
       "    <tr>\n",
       "      <th>0</th>\n",
       "      <td>1</td>\n",
       "      <td>Employee_1</td>\n",
       "      <td>9</td>\n",
       "      <td>10</td>\n",
       "      <td>5</td>\n",
       "      <td>4</td>\n",
       "      <td>7</td>\n",
       "    </tr>\n",
       "    <tr>\n",
       "      <th>1</th>\n",
       "      <td>2</td>\n",
       "      <td>Employee_2</td>\n",
       "      <td>3</td>\n",
       "      <td>6</td>\n",
       "      <td>7</td>\n",
       "      <td>6</td>\n",
       "      <td>7</td>\n",
       "    </tr>\n",
       "    <tr>\n",
       "      <th>2</th>\n",
       "      <td>3</td>\n",
       "      <td>Employee_3</td>\n",
       "      <td>7</td>\n",
       "      <td>5</td>\n",
       "      <td>6</td>\n",
       "      <td>4</td>\n",
       "      <td>1</td>\n",
       "    </tr>\n",
       "    <tr>\n",
       "      <th>3</th>\n",
       "      <td>4</td>\n",
       "      <td>Employee_4</td>\n",
       "      <td>5</td>\n",
       "      <td>2</td>\n",
       "      <td>6</td>\n",
       "      <td>3</td>\n",
       "      <td>7</td>\n",
       "    </tr>\n",
       "    <tr>\n",
       "      <th>4</th>\n",
       "      <td>5</td>\n",
       "      <td>Employee_5</td>\n",
       "      <td>5</td>\n",
       "      <td>6</td>\n",
       "      <td>2</td>\n",
       "      <td>8</td>\n",
       "      <td>10</td>\n",
       "    </tr>\n",
       "    <tr>\n",
       "      <th>5</th>\n",
       "      <td>6</td>\n",
       "      <td>Employee_6</td>\n",
       "      <td>6</td>\n",
       "      <td>7</td>\n",
       "      <td>9</td>\n",
       "      <td>7</td>\n",
       "      <td>4</td>\n",
       "    </tr>\n",
       "    <tr>\n",
       "      <th>6</th>\n",
       "      <td>7</td>\n",
       "      <td>Employee_7</td>\n",
       "      <td>5</td>\n",
       "      <td>6</td>\n",
       "      <td>8</td>\n",
       "      <td>8</td>\n",
       "      <td>7</td>\n",
       "    </tr>\n",
       "    <tr>\n",
       "      <th>7</th>\n",
       "      <td>8</td>\n",
       "      <td>Employee_8</td>\n",
       "      <td>9</td>\n",
       "      <td>2</td>\n",
       "      <td>9</td>\n",
       "      <td>8</td>\n",
       "      <td>1</td>\n",
       "    </tr>\n",
       "    <tr>\n",
       "      <th>8</th>\n",
       "      <td>9</td>\n",
       "      <td>Employee_9</td>\n",
       "      <td>9</td>\n",
       "      <td>2</td>\n",
       "      <td>2</td>\n",
       "      <td>7</td>\n",
       "      <td>1</td>\n",
       "    </tr>\n",
       "    <tr>\n",
       "      <th>9</th>\n",
       "      <td>10</td>\n",
       "      <td>Employee_10</td>\n",
       "      <td>9</td>\n",
       "      <td>4</td>\n",
       "      <td>4</td>\n",
       "      <td>6</td>\n",
       "      <td>3</td>\n",
       "    </tr>\n",
       "  </tbody>\n",
       "</table>\n",
       "</div>"
      ],
      "text/plain": [
       "   EmployeeID         Name  Python  DataAnalysis  ML  Communication  \\\n",
       "0           1   Employee_1       9            10   5              4   \n",
       "1           2   Employee_2       3             6   7              6   \n",
       "2           3   Employee_3       7             5   6              4   \n",
       "3           4   Employee_4       5             2   6              3   \n",
       "4           5   Employee_5       5             6   2              8   \n",
       "5           6   Employee_6       6             7   9              7   \n",
       "6           7   Employee_7       5             6   8              8   \n",
       "7           8   Employee_8       9             2   9              8   \n",
       "8           9   Employee_9       9             2   2              7   \n",
       "9          10  Employee_10       9             4   4              6   \n",
       "\n",
       "   ProjectManagement  \n",
       "0                  7  \n",
       "1                  7  \n",
       "2                  1  \n",
       "3                  7  \n",
       "4                 10  \n",
       "5                  4  \n",
       "6                  7  \n",
       "7                  1  \n",
       "8                  1  \n",
       "9                  3  "
      ]
     },
     "execution_count": 150,
     "metadata": {},
     "output_type": "execute_result"
    }
   ],
   "source": [
    "employee"
   ]
  },
  {
   "cell_type": "code",
   "execution_count": 151,
   "id": "6b65aa93-a317-4fb3-b715-49fecf05b8c1",
   "metadata": {},
   "outputs": [
    {
     "data": {
      "text/plain": [
       "array(['Data Cleaning & Preparation', 'AI Model Training',\n",
       "       'Machine Learning Model Development', 'Resource Allocation',\n",
       "       'Project Planning & Coordination',\n",
       "       'Machine Learning Model Development', 'Client Presentation',\n",
       "       'Machine Learning Model Development', 'Automation Script',\n",
       "       'Backend API Development'], dtype=object)"
      ]
     },
     "execution_count": 151,
     "metadata": {},
     "output_type": "execute_result"
    }
   ],
   "source": [
    "pred = employee.iloc[:,2:]\n",
    "knn.fit(x_train,y_train)\n",
    "assignedTask = knn.predict(pred.values)\n",
    "assignedTask"
   ]
  },
  {
   "cell_type": "code",
   "execution_count": 152,
   "id": "62f0858a-325f-4562-9620-38084bb3b8cf",
   "metadata": {},
   "outputs": [
    {
     "data": {
      "text/html": [
       "<div>\n",
       "<style scoped>\n",
       "    .dataframe tbody tr th:only-of-type {\n",
       "        vertical-align: middle;\n",
       "    }\n",
       "\n",
       "    .dataframe tbody tr th {\n",
       "        vertical-align: top;\n",
       "    }\n",
       "\n",
       "    .dataframe thead th {\n",
       "        text-align: right;\n",
       "    }\n",
       "</style>\n",
       "<table border=\"1\" class=\"dataframe\">\n",
       "  <thead>\n",
       "    <tr style=\"text-align: right;\">\n",
       "      <th></th>\n",
       "      <th>EmployeeID</th>\n",
       "      <th>Name</th>\n",
       "      <th>Python</th>\n",
       "      <th>DataAnalysis</th>\n",
       "      <th>ML</th>\n",
       "      <th>Communication</th>\n",
       "      <th>ProjectManagement</th>\n",
       "      <th>AssignedTask</th>\n",
       "    </tr>\n",
       "  </thead>\n",
       "  <tbody>\n",
       "    <tr>\n",
       "      <th>0</th>\n",
       "      <td>1</td>\n",
       "      <td>Employee_1</td>\n",
       "      <td>9</td>\n",
       "      <td>10</td>\n",
       "      <td>5</td>\n",
       "      <td>4</td>\n",
       "      <td>7</td>\n",
       "      <td>Data Cleaning &amp; Preparation</td>\n",
       "    </tr>\n",
       "    <tr>\n",
       "      <th>1</th>\n",
       "      <td>2</td>\n",
       "      <td>Employee_2</td>\n",
       "      <td>3</td>\n",
       "      <td>6</td>\n",
       "      <td>7</td>\n",
       "      <td>6</td>\n",
       "      <td>7</td>\n",
       "      <td>AI Model Training</td>\n",
       "    </tr>\n",
       "    <tr>\n",
       "      <th>2</th>\n",
       "      <td>3</td>\n",
       "      <td>Employee_3</td>\n",
       "      <td>7</td>\n",
       "      <td>5</td>\n",
       "      <td>6</td>\n",
       "      <td>4</td>\n",
       "      <td>1</td>\n",
       "      <td>Machine Learning Model Development</td>\n",
       "    </tr>\n",
       "    <tr>\n",
       "      <th>3</th>\n",
       "      <td>4</td>\n",
       "      <td>Employee_4</td>\n",
       "      <td>5</td>\n",
       "      <td>2</td>\n",
       "      <td>6</td>\n",
       "      <td>3</td>\n",
       "      <td>7</td>\n",
       "      <td>Resource Allocation</td>\n",
       "    </tr>\n",
       "    <tr>\n",
       "      <th>4</th>\n",
       "      <td>5</td>\n",
       "      <td>Employee_5</td>\n",
       "      <td>5</td>\n",
       "      <td>6</td>\n",
       "      <td>2</td>\n",
       "      <td>8</td>\n",
       "      <td>10</td>\n",
       "      <td>Project Planning &amp; Coordination</td>\n",
       "    </tr>\n",
       "    <tr>\n",
       "      <th>5</th>\n",
       "      <td>6</td>\n",
       "      <td>Employee_6</td>\n",
       "      <td>6</td>\n",
       "      <td>7</td>\n",
       "      <td>9</td>\n",
       "      <td>7</td>\n",
       "      <td>4</td>\n",
       "      <td>Machine Learning Model Development</td>\n",
       "    </tr>\n",
       "    <tr>\n",
       "      <th>6</th>\n",
       "      <td>7</td>\n",
       "      <td>Employee_7</td>\n",
       "      <td>5</td>\n",
       "      <td>6</td>\n",
       "      <td>8</td>\n",
       "      <td>8</td>\n",
       "      <td>7</td>\n",
       "      <td>Client Presentation</td>\n",
       "    </tr>\n",
       "    <tr>\n",
       "      <th>7</th>\n",
       "      <td>8</td>\n",
       "      <td>Employee_8</td>\n",
       "      <td>9</td>\n",
       "      <td>2</td>\n",
       "      <td>9</td>\n",
       "      <td>8</td>\n",
       "      <td>1</td>\n",
       "      <td>Machine Learning Model Development</td>\n",
       "    </tr>\n",
       "    <tr>\n",
       "      <th>8</th>\n",
       "      <td>9</td>\n",
       "      <td>Employee_9</td>\n",
       "      <td>9</td>\n",
       "      <td>2</td>\n",
       "      <td>2</td>\n",
       "      <td>7</td>\n",
       "      <td>1</td>\n",
       "      <td>Automation Script</td>\n",
       "    </tr>\n",
       "    <tr>\n",
       "      <th>9</th>\n",
       "      <td>10</td>\n",
       "      <td>Employee_10</td>\n",
       "      <td>9</td>\n",
       "      <td>4</td>\n",
       "      <td>4</td>\n",
       "      <td>6</td>\n",
       "      <td>3</td>\n",
       "      <td>Backend API Development</td>\n",
       "    </tr>\n",
       "  </tbody>\n",
       "</table>\n",
       "</div>"
      ],
      "text/plain": [
       "   EmployeeID         Name  Python  DataAnalysis  ML  Communication  \\\n",
       "0           1   Employee_1       9            10   5              4   \n",
       "1           2   Employee_2       3             6   7              6   \n",
       "2           3   Employee_3       7             5   6              4   \n",
       "3           4   Employee_4       5             2   6              3   \n",
       "4           5   Employee_5       5             6   2              8   \n",
       "5           6   Employee_6       6             7   9              7   \n",
       "6           7   Employee_7       5             6   8              8   \n",
       "7           8   Employee_8       9             2   9              8   \n",
       "8           9   Employee_9       9             2   2              7   \n",
       "9          10  Employee_10       9             4   4              6   \n",
       "\n",
       "   ProjectManagement                        AssignedTask  \n",
       "0                  7         Data Cleaning & Preparation  \n",
       "1                  7                   AI Model Training  \n",
       "2                  1  Machine Learning Model Development  \n",
       "3                  7                 Resource Allocation  \n",
       "4                 10     Project Planning & Coordination  \n",
       "5                  4  Machine Learning Model Development  \n",
       "6                  7                 Client Presentation  \n",
       "7                  1  Machine Learning Model Development  \n",
       "8                  1                   Automation Script  \n",
       "9                  3             Backend API Development  "
      ]
     },
     "execution_count": 152,
     "metadata": {},
     "output_type": "execute_result"
    }
   ],
   "source": [
    "Task = pd.DataFrame(assignedTask , columns=[\"AssignedTask\"])\n",
    "employee = pd.concat([employee,Task],axis=1)\n",
    "employee"
   ]
  }
 ],
 "metadata": {
  "kernelspec": {
   "display_name": "Python 3 (ipykernel)",
   "language": "python",
   "name": "python3"
  },
  "language_info": {
   "codemirror_mode": {
    "name": "ipython",
    "version": 3
   },
   "file_extension": ".py",
   "mimetype": "text/x-python",
   "name": "python",
   "nbconvert_exporter": "python",
   "pygments_lexer": "ipython3",
   "version": "3.11.4"
  }
 },
 "nbformat": 4,
 "nbformat_minor": 5
}
